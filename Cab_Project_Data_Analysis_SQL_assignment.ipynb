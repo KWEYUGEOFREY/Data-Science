{
  "nbformat": 4,
  "nbformat_minor": 0,
  "metadata": {
    "colab": {
      "name": "Cab Project Data Analysis SQL assignment.ipynb",
      "provenance": [],
      "collapsed_sections": [],
      "mount_file_id": "1STM2T7pdfKqsxo2OZ4v2I254dczEJhDh",
      "authorship_tag": "ABX9TyOQ/P6sHQ8bazZlNKxpDjxK",
      "include_colab_link": true
    },
    "kernelspec": {
      "name": "python3",
      "display_name": "Python 3"
    }
  },
  "cells": [
    {
      "cell_type": "markdown",
      "metadata": {
        "id": "view-in-github",
        "colab_type": "text"
      },
      "source": [
        "<a href=\"https://colab.research.google.com/github/KWEYUGEOFREY/Data-Science/blob/master/Cab_Project_Data_Analysis_SQL_assignment.ipynb\" target=\"_parent\"><img src=\"https://colab.research.google.com/assets/colab-badge.svg\" alt=\"Open In Colab\"/></a>"
      ]
    },
    {
      "cell_type": "markdown",
      "metadata": {
        "id": "I5DU3u0UKpP1",
        "colab_type": "text"
      },
      "source": [
        ""
      ]
    },
    {
      "cell_type": "markdown",
      "metadata": {
        "id": "Tegr8ueimlMD",
        "colab_type": "text"
      },
      "source": [
        "### a) Specifying the Data Analysis Question\n",
        "\n",
        "Create a descriptive analysis report that outlines the pricing patterns of the existing ride-sharing company."
      ]
    },
    {
      "cell_type": "markdown",
      "metadata": {
        "id": "L2Bg92R3mlMF",
        "colab_type": "text"
      },
      "source": [
        "### b) Defining the Metric for Success\n",
        "\n",
        "The project will be a success when we are able to understand how pricing works."
      ]
    },
    {
      "cell_type": "markdown",
      "metadata": {
        "id": "2ZBVrPEbmlMG",
        "colab_type": "text"
      },
      "source": [
        "### c) Understanding the Context \n",
        "\n",
        "Over the past few years, ride-sharing apps have been on the rise across many cities in the world. While this has happened, Uber and Lyft's ride prices are not constant like public transport. They are greatly affected by the demand and supply of rides at a given time.\n",
        "\n",
        "As a Data Scientist working to understand this market, you have been tasked to come up with a descriptive analysis report to help a Ride-Sharing Startup coming into this space, understand the various patterns on how pricing works for the existing ride-sharing company."
      ]
    },
    {
      "cell_type": "markdown",
      "metadata": {
        "id": "W1ilTBTemlMH",
        "colab_type": "text"
      },
      "source": [
        "### d) Recording the Experimental Design\n",
        "\n",
        "1. Load pandas and sqlite3\n",
        "2. Load datasets \n",
        "3. Perform data cleaning\n",
        "4. Transfer datasets to SQL table\n",
        "5. Carry out analysis using SQL\n",
        "6. Merge datasets and carry out further analysis\n",
        "6. Summarize findings.\n",
        "7. Provide recommendations.\n",
        "8. Challenge the solution."
      ]
    },
    {
      "cell_type": "code",
      "metadata": {
        "id": "pri4Wx_rKaln",
        "colab_type": "code",
        "colab": {}
      },
      "source": [
        ""
      ],
      "execution_count": null,
      "outputs": []
    },
    {
      "cell_type": "markdown",
      "metadata": {
        "id": "HsTQlLUamrUD",
        "colab_type": "text"
      },
      "source": [
        "# Loading sql extensions and useful packages\n"
      ]
    },
    {
      "cell_type": "code",
      "metadata": {
        "id": "5VVe0wPnnI2q",
        "colab_type": "code",
        "colab": {
          "base_uri": "https://localhost:8080/",
          "height": 35
        },
        "outputId": "6da28b4c-f514-4d57-fb65-2ffd1bf8dc84"
      },
      "source": [
        "# Loading sql extensions\n",
        "%load_ext sql\n",
        "%sql sqlite:///testdb.sqlite   "
      ],
      "execution_count": null,
      "outputs": [
        {
          "output_type": "execute_result",
          "data": {
            "application/vnd.google.colaboratory.intrinsic": {
              "type": "string"
            },
            "text/plain": [
              "'Connected: @testdb.sqlite'"
            ]
          },
          "metadata": {
            "tags": []
          },
          "execution_count": 3
        }
      ]
    },
    {
      "cell_type": "code",
      "metadata": {
        "id": "Qs-iybaunaO6",
        "colab_type": "code",
        "colab": {}
      },
      "source": [
        "# import Python Pandas library\n",
        "import pandas as pd\n",
        "import numpy as np\n",
        "\n",
        "# import sqlite3\n",
        "import sqlite3\n"
      ],
      "execution_count": null,
      "outputs": []
    },
    {
      "cell_type": "markdown",
      "metadata": {
        "id": "94wFe6lhno8x",
        "colab_type": "text"
      },
      "source": [
        "# Loading datasets "
      ]
    },
    {
      "cell_type": "code",
      "metadata": {
        "id": "6BXXc-yOn32p",
        "colab_type": "code",
        "colab": {}
      },
      "source": [
        "# load first few records\n",
        "df1 = pd.read_csv('https://bit.ly/cabsdataset')"
      ],
      "execution_count": null,
      "outputs": []
    },
    {
      "cell_type": "code",
      "metadata": {
        "id": "Lxd_ZYAXomKL",
        "colab_type": "code",
        "colab": {
          "base_uri": "https://localhost:8080/",
          "height": 335
        },
        "outputId": "68488e3c-e508-442b-a900-460f344cafb3"
      },
      "source": [
        "# create cabs table\n",
        "\n",
        "%sql DROP TABLE IF EXISTS df1;\n",
        "%sql PERSIST df1;\n",
        "%sql SELECT * FROM df1 limit 10;"
      ],
      "execution_count": null,
      "outputs": [
        {
          "output_type": "stream",
          "text": [
            " * sqlite:///testdb.sqlite\n",
            "Done.\n",
            " * sqlite:///testdb.sqlite\n",
            " * sqlite:///testdb.sqlite\n",
            "Done.\n"
          ],
          "name": "stdout"
        },
        {
          "output_type": "execute_result",
          "data": {
            "text/html": [
              "<table>\n",
              "    <tr>\n",
              "        <th>index</th>\n",
              "        <th>Unnamed: 0</th>\n",
              "        <th>distance</th>\n",
              "        <th>cab_type</th>\n",
              "        <th>time_stamp</th>\n",
              "        <th>destination</th>\n",
              "        <th>source</th>\n",
              "        <th>price</th>\n",
              "        <th>surge_multiplier</th>\n",
              "        <th>id</th>\n",
              "        <th>product_id</th>\n",
              "        <th>name</th>\n",
              "    </tr>\n",
              "    <tr>\n",
              "        <td>0</td>\n",
              "        <td>0</td>\n",
              "        <td>0.44</td>\n",
              "        <td>Lyft</td>\n",
              "        <td>2018-12-16 09:30:07.890</td>\n",
              "        <td>North Station</td>\n",
              "        <td>Haymarket Square</td>\n",
              "        <td>5.0</td>\n",
              "        <td>1.0</td>\n",
              "        <td>424553bb-7174-41ea-aeb4-fe06d4f4b9d7</td>\n",
              "        <td>lyft_line</td>\n",
              "        <td>Shared</td>\n",
              "    </tr>\n",
              "    <tr>\n",
              "        <td>1</td>\n",
              "        <td>1</td>\n",
              "        <td>0.44</td>\n",
              "        <td>Lyft</td>\n",
              "        <td>2018-11-27 02:00:23.677</td>\n",
              "        <td>North Station</td>\n",
              "        <td>Haymarket Square</td>\n",
              "        <td>11.0</td>\n",
              "        <td>1.0</td>\n",
              "        <td>4bd23055-6827-41c6-b23b-3c491f24e74d</td>\n",
              "        <td>lyft_premier</td>\n",
              "        <td>Lux</td>\n",
              "    </tr>\n",
              "    <tr>\n",
              "        <td>2</td>\n",
              "        <td>2</td>\n",
              "        <td>0.44</td>\n",
              "        <td>Lyft</td>\n",
              "        <td>2018-11-28 01:00:22.198</td>\n",
              "        <td>North Station</td>\n",
              "        <td>Haymarket Square</td>\n",
              "        <td>7.0</td>\n",
              "        <td>1.0</td>\n",
              "        <td>981a3613-77af-4620-a42a-0c0866077d1e</td>\n",
              "        <td>lyft</td>\n",
              "        <td>Lyft</td>\n",
              "    </tr>\n",
              "    <tr>\n",
              "        <td>3</td>\n",
              "        <td>3</td>\n",
              "        <td>0.44</td>\n",
              "        <td>Lyft</td>\n",
              "        <td>2018-11-30 04:53:02.749</td>\n",
              "        <td>North Station</td>\n",
              "        <td>Haymarket Square</td>\n",
              "        <td>26.0</td>\n",
              "        <td>1.0</td>\n",
              "        <td>c2d88af2-d278-4bfd-a8d0-29ca77cc5512</td>\n",
              "        <td>lyft_luxsuv</td>\n",
              "        <td>Lux Black XL</td>\n",
              "    </tr>\n",
              "    <tr>\n",
              "        <td>4</td>\n",
              "        <td>4</td>\n",
              "        <td>0.44</td>\n",
              "        <td>Lyft</td>\n",
              "        <td>2018-11-29 03:49:20.223</td>\n",
              "        <td>North Station</td>\n",
              "        <td>Haymarket Square</td>\n",
              "        <td>9.0</td>\n",
              "        <td>1.0</td>\n",
              "        <td>e0126e1f-8ca9-4f2e-82b3-50505a09db9a</td>\n",
              "        <td>lyft_plus</td>\n",
              "        <td>Lyft XL</td>\n",
              "    </tr>\n",
              "    <tr>\n",
              "        <td>5</td>\n",
              "        <td>5</td>\n",
              "        <td>0.44</td>\n",
              "        <td>Lyft</td>\n",
              "        <td>2018-12-17 18:25:12.138</td>\n",
              "        <td>North Station</td>\n",
              "        <td>Haymarket Square</td>\n",
              "        <td>16.5</td>\n",
              "        <td>1.0</td>\n",
              "        <td>f6f6d7e4-3e18-4922-a5f5-181cdd3fa6f2</td>\n",
              "        <td>lyft_lux</td>\n",
              "        <td>Lux Black</td>\n",
              "    </tr>\n",
              "    <tr>\n",
              "        <td>6</td>\n",
              "        <td>6</td>\n",
              "        <td>1.08</td>\n",
              "        <td>Lyft</td>\n",
              "        <td>2018-11-26 05:03:00.200</td>\n",
              "        <td>Northeastern University</td>\n",
              "        <td>Back Bay</td>\n",
              "        <td>10.5</td>\n",
              "        <td>1.0</td>\n",
              "        <td>462816a3-820d-408b-8549-0b39e82f65ac</td>\n",
              "        <td>lyft_plus</td>\n",
              "        <td>Lyft XL</td>\n",
              "    </tr>\n",
              "    <tr>\n",
              "        <td>7</td>\n",
              "        <td>7</td>\n",
              "        <td>1.08</td>\n",
              "        <td>Lyft</td>\n",
              "        <td>2018-12-02 19:53:04.677</td>\n",
              "        <td>Northeastern University</td>\n",
              "        <td>Back Bay</td>\n",
              "        <td>16.5</td>\n",
              "        <td>1.0</td>\n",
              "        <td>474d6376-bc59-4ec9-bf57-4e6d6faeb165</td>\n",
              "        <td>lyft_lux</td>\n",
              "        <td>Lux Black</td>\n",
              "    </tr>\n",
              "    <tr>\n",
              "        <td>8</td>\n",
              "        <td>8</td>\n",
              "        <td>1.08</td>\n",
              "        <td>Lyft</td>\n",
              "        <td>2018-12-03 06:28:02.645</td>\n",
              "        <td>Northeastern University</td>\n",
              "        <td>Back Bay</td>\n",
              "        <td>3.0</td>\n",
              "        <td>1.0</td>\n",
              "        <td>4f9fee41-fde3-4767-bbf1-a00e108701fb</td>\n",
              "        <td>lyft_line</td>\n",
              "        <td>Shared</td>\n",
              "    </tr>\n",
              "    <tr>\n",
              "        <td>9</td>\n",
              "        <td>9</td>\n",
              "        <td>1.08</td>\n",
              "        <td>Lyft</td>\n",
              "        <td>2018-11-27 10:45:22.249</td>\n",
              "        <td>Northeastern University</td>\n",
              "        <td>Back Bay</td>\n",
              "        <td>27.5</td>\n",
              "        <td>1.0</td>\n",
              "        <td>8612d909-98b8-4454-a093-30bd48de0cb3</td>\n",
              "        <td>lyft_luxsuv</td>\n",
              "        <td>Lux Black XL</td>\n",
              "    </tr>\n",
              "</table>"
            ],
            "text/plain": [
              "[(0, 0, 0.44, 'Lyft', '2018-12-16 09:30:07.890', 'North Station', 'Haymarket Square', 5.0, 1.0, '424553bb-7174-41ea-aeb4-fe06d4f4b9d7', 'lyft_line', 'Shared'),\n",
              " (1, 1, 0.44, 'Lyft', '2018-11-27 02:00:23.677', 'North Station', 'Haymarket Square', 11.0, 1.0, '4bd23055-6827-41c6-b23b-3c491f24e74d', 'lyft_premier', 'Lux'),\n",
              " (2, 2, 0.44, 'Lyft', '2018-11-28 01:00:22.198', 'North Station', 'Haymarket Square', 7.0, 1.0, '981a3613-77af-4620-a42a-0c0866077d1e', 'lyft', 'Lyft'),\n",
              " (3, 3, 0.44, 'Lyft', '2018-11-30 04:53:02.749', 'North Station', 'Haymarket Square', 26.0, 1.0, 'c2d88af2-d278-4bfd-a8d0-29ca77cc5512', 'lyft_luxsuv', 'Lux Black XL'),\n",
              " (4, 4, 0.44, 'Lyft', '2018-11-29 03:49:20.223', 'North Station', 'Haymarket Square', 9.0, 1.0, 'e0126e1f-8ca9-4f2e-82b3-50505a09db9a', 'lyft_plus', 'Lyft XL'),\n",
              " (5, 5, 0.44, 'Lyft', '2018-12-17 18:25:12.138', 'North Station', 'Haymarket Square', 16.5, 1.0, 'f6f6d7e4-3e18-4922-a5f5-181cdd3fa6f2', 'lyft_lux', 'Lux Black'),\n",
              " (6, 6, 1.08, 'Lyft', '2018-11-26 05:03:00.200', 'Northeastern University', 'Back Bay', 10.5, 1.0, '462816a3-820d-408b-8549-0b39e82f65ac', 'lyft_plus', 'Lyft XL'),\n",
              " (7, 7, 1.08, 'Lyft', '2018-12-02 19:53:04.677', 'Northeastern University', 'Back Bay', 16.5, 1.0, '474d6376-bc59-4ec9-bf57-4e6d6faeb165', 'lyft_lux', 'Lux Black'),\n",
              " (8, 8, 1.08, 'Lyft', '2018-12-03 06:28:02.645', 'Northeastern University', 'Back Bay', 3.0, 1.0, '4f9fee41-fde3-4767-bbf1-a00e108701fb', 'lyft_line', 'Shared'),\n",
              " (9, 9, 1.08, 'Lyft', '2018-11-27 10:45:22.249', 'Northeastern University', 'Back Bay', 27.5, 1.0, '8612d909-98b8-4454-a093-30bd48de0cb3', 'lyft_luxsuv', 'Lux Black XL')]"
            ]
          },
          "metadata": {
            "tags": []
          },
          "execution_count": 11
        }
      ]
    },
    {
      "cell_type": "code",
      "metadata": {
        "id": "PAOUYJDPEAU7",
        "colab_type": "code",
        "colab": {}
      },
      "source": [
        ""
      ],
      "execution_count": null,
      "outputs": []
    },
    {
      "cell_type": "code",
      "metadata": {
        "id": "trNw9OAg1yWm",
        "colab_type": "code",
        "colab": {
          "base_uri": "https://localhost:8080/",
          "height": 204
        },
        "outputId": "0d8a39c2-01e3-48f3-9f94-d93908953c18"
      },
      "source": [
        "# load first few records\n",
        "df2 = pd.read_csv('https://bit.ly/cabsweatherdata')\n",
        "df2.head(5)"
      ],
      "execution_count": null,
      "outputs": [
        {
          "output_type": "execute_result",
          "data": {
            "text/html": [
              "<div>\n",
              "<style scoped>\n",
              "    .dataframe tbody tr th:only-of-type {\n",
              "        vertical-align: middle;\n",
              "    }\n",
              "\n",
              "    .dataframe tbody tr th {\n",
              "        vertical-align: top;\n",
              "    }\n",
              "\n",
              "    .dataframe thead th {\n",
              "        text-align: right;\n",
              "    }\n",
              "</style>\n",
              "<table border=\"1\" class=\"dataframe\">\n",
              "  <thead>\n",
              "    <tr style=\"text-align: right;\">\n",
              "      <th></th>\n",
              "      <th>Unnamed: 0</th>\n",
              "      <th>temp</th>\n",
              "      <th>location</th>\n",
              "      <th>clouds</th>\n",
              "      <th>pressure</th>\n",
              "      <th>rain</th>\n",
              "      <th>time_stamp</th>\n",
              "      <th>humidity</th>\n",
              "      <th>wind</th>\n",
              "    </tr>\n",
              "  </thead>\n",
              "  <tbody>\n",
              "    <tr>\n",
              "      <th>0</th>\n",
              "      <td>0</td>\n",
              "      <td>42.42</td>\n",
              "      <td>Back Bay</td>\n",
              "      <td>1.0</td>\n",
              "      <td>1012.14</td>\n",
              "      <td>0.1228</td>\n",
              "      <td>2018-12-16 23:45:01</td>\n",
              "      <td>0.77</td>\n",
              "      <td>11.25</td>\n",
              "    </tr>\n",
              "    <tr>\n",
              "      <th>1</th>\n",
              "      <td>1</td>\n",
              "      <td>42.43</td>\n",
              "      <td>Beacon Hill</td>\n",
              "      <td>1.0</td>\n",
              "      <td>1012.15</td>\n",
              "      <td>0.1846</td>\n",
              "      <td>2018-12-16 23:45:01</td>\n",
              "      <td>0.76</td>\n",
              "      <td>11.32</td>\n",
              "    </tr>\n",
              "    <tr>\n",
              "      <th>2</th>\n",
              "      <td>2</td>\n",
              "      <td>42.50</td>\n",
              "      <td>Boston University</td>\n",
              "      <td>1.0</td>\n",
              "      <td>1012.15</td>\n",
              "      <td>0.1089</td>\n",
              "      <td>2018-12-16 23:45:01</td>\n",
              "      <td>0.76</td>\n",
              "      <td>11.07</td>\n",
              "    </tr>\n",
              "    <tr>\n",
              "      <th>3</th>\n",
              "      <td>3</td>\n",
              "      <td>42.11</td>\n",
              "      <td>Fenway</td>\n",
              "      <td>1.0</td>\n",
              "      <td>1012.13</td>\n",
              "      <td>0.0969</td>\n",
              "      <td>2018-12-16 23:45:01</td>\n",
              "      <td>0.77</td>\n",
              "      <td>11.09</td>\n",
              "    </tr>\n",
              "    <tr>\n",
              "      <th>4</th>\n",
              "      <td>4</td>\n",
              "      <td>43.13</td>\n",
              "      <td>Financial District</td>\n",
              "      <td>1.0</td>\n",
              "      <td>1012.14</td>\n",
              "      <td>0.1786</td>\n",
              "      <td>2018-12-16 23:45:01</td>\n",
              "      <td>0.75</td>\n",
              "      <td>11.49</td>\n",
              "    </tr>\n",
              "  </tbody>\n",
              "</table>\n",
              "</div>"
            ],
            "text/plain": [
              "   Unnamed: 0   temp            location  ...           time_stamp  humidity   wind\n",
              "0           0  42.42            Back Bay  ...  2018-12-16 23:45:01      0.77  11.25\n",
              "1           1  42.43         Beacon Hill  ...  2018-12-16 23:45:01      0.76  11.32\n",
              "2           2  42.50   Boston University  ...  2018-12-16 23:45:01      0.76  11.07\n",
              "3           3  42.11              Fenway  ...  2018-12-16 23:45:01      0.77  11.09\n",
              "4           4  43.13  Financial District  ...  2018-12-16 23:45:01      0.75  11.49\n",
              "\n",
              "[5 rows x 9 columns]"
            ]
          },
          "metadata": {
            "tags": []
          },
          "execution_count": 14
        }
      ]
    },
    {
      "cell_type": "code",
      "metadata": {
        "id": "Kfo4Z_P62WpT",
        "colab_type": "code",
        "colab": {
          "base_uri": "https://localhost:8080/",
          "height": 230
        },
        "outputId": "bee6fb7a-366b-4c86-8f35-e9ae8f2a9fce"
      },
      "source": [
        "%sql DROP TABLE IF EXISTS  df2;\n",
        "%sql PERSIST df2;\n",
        "%sql SELECT * FROM df2 limit 5;"
      ],
      "execution_count": null,
      "outputs": [
        {
          "output_type": "stream",
          "text": [
            " * sqlite:///testdb.sqlite\n",
            "Done.\n",
            " * sqlite:///testdb.sqlite\n",
            " * sqlite:///testdb.sqlite\n",
            "Done.\n"
          ],
          "name": "stdout"
        },
        {
          "output_type": "execute_result",
          "data": {
            "text/html": [
              "<table>\n",
              "    <tr>\n",
              "        <th>index</th>\n",
              "        <th>Unnamed: 0</th>\n",
              "        <th>temp</th>\n",
              "        <th>location</th>\n",
              "        <th>clouds</th>\n",
              "        <th>pressure</th>\n",
              "        <th>rain</th>\n",
              "        <th>time_stamp</th>\n",
              "        <th>humidity</th>\n",
              "        <th>wind</th>\n",
              "    </tr>\n",
              "    <tr>\n",
              "        <td>0</td>\n",
              "        <td>0</td>\n",
              "        <td>42.42</td>\n",
              "        <td>Back Bay</td>\n",
              "        <td>1.0</td>\n",
              "        <td>1012.14</td>\n",
              "        <td>0.1228</td>\n",
              "        <td>2018-12-16 23:45:01</td>\n",
              "        <td>0.77</td>\n",
              "        <td>11.25</td>\n",
              "    </tr>\n",
              "    <tr>\n",
              "        <td>1</td>\n",
              "        <td>1</td>\n",
              "        <td>42.43</td>\n",
              "        <td>Beacon Hill</td>\n",
              "        <td>1.0</td>\n",
              "        <td>1012.15</td>\n",
              "        <td>0.1846</td>\n",
              "        <td>2018-12-16 23:45:01</td>\n",
              "        <td>0.76</td>\n",
              "        <td>11.32</td>\n",
              "    </tr>\n",
              "    <tr>\n",
              "        <td>2</td>\n",
              "        <td>2</td>\n",
              "        <td>42.5</td>\n",
              "        <td>Boston University</td>\n",
              "        <td>1.0</td>\n",
              "        <td>1012.15</td>\n",
              "        <td>0.1089</td>\n",
              "        <td>2018-12-16 23:45:01</td>\n",
              "        <td>0.76</td>\n",
              "        <td>11.07</td>\n",
              "    </tr>\n",
              "    <tr>\n",
              "        <td>3</td>\n",
              "        <td>3</td>\n",
              "        <td>42.11</td>\n",
              "        <td>Fenway</td>\n",
              "        <td>1.0</td>\n",
              "        <td>1012.13</td>\n",
              "        <td>0.0969</td>\n",
              "        <td>2018-12-16 23:45:01</td>\n",
              "        <td>0.77</td>\n",
              "        <td>11.09</td>\n",
              "    </tr>\n",
              "    <tr>\n",
              "        <td>4</td>\n",
              "        <td>4</td>\n",
              "        <td>43.13</td>\n",
              "        <td>Financial District</td>\n",
              "        <td>1.0</td>\n",
              "        <td>1012.14</td>\n",
              "        <td>0.1786</td>\n",
              "        <td>2018-12-16 23:45:01</td>\n",
              "        <td>0.75</td>\n",
              "        <td>11.49</td>\n",
              "    </tr>\n",
              "</table>"
            ],
            "text/plain": [
              "[(0, 0, 42.42, 'Back Bay', 1.0, 1012.14, 0.1228, '2018-12-16 23:45:01', 0.77, 11.25),\n",
              " (1, 1, 42.43, 'Beacon Hill', 1.0, 1012.15, 0.1846, '2018-12-16 23:45:01', 0.76, 11.32),\n",
              " (2, 2, 42.5, 'Boston University', 1.0, 1012.15, 0.1089, '2018-12-16 23:45:01', 0.76, 11.07),\n",
              " (3, 3, 42.11, 'Fenway', 1.0, 1012.13, 0.0969, '2018-12-16 23:45:01', 0.77, 11.09),\n",
              " (4, 4, 43.13, 'Financial District', 1.0, 1012.14, 0.1786, '2018-12-16 23:45:01', 0.75, 11.49)]"
            ]
          },
          "metadata": {
            "tags": []
          },
          "execution_count": 13
        }
      ]
    },
    {
      "cell_type": "markdown",
      "metadata": {
        "id": "lYDRZ2bDXFBz",
        "colab_type": "text"
      },
      "source": [
        "#   "
      ]
    },
    {
      "cell_type": "markdown",
      "metadata": {
        "id": "Y5r7Z9H6bZH3",
        "colab_type": "text"
      },
      "source": [
        "# Reformating"
      ]
    },
    {
      "cell_type": "code",
      "metadata": {
        "id": "7SXX3jhOblAr",
        "colab_type": "code",
        "colab": {
          "base_uri": "https://localhost:8080/",
          "height": 179
        },
        "outputId": "5103e2ba-8d18-497f-cf51-875acce24198"
      },
      "source": [
        "\n",
        "%%sql \n",
        "select location, round(rain, 2) as rainfall\n",
        "from df2 limit 5;"
      ],
      "execution_count": null,
      "outputs": [
        {
          "output_type": "stream",
          "text": [
            " * sqlite:///testdb.sqlite\n",
            "Done.\n"
          ],
          "name": "stdout"
        },
        {
          "output_type": "execute_result",
          "data": {
            "text/html": [
              "<table>\n",
              "    <tr>\n",
              "        <th>location</th>\n",
              "        <th>rainfall</th>\n",
              "    </tr>\n",
              "    <tr>\n",
              "        <td>Back Bay</td>\n",
              "        <td>0.12</td>\n",
              "    </tr>\n",
              "    <tr>\n",
              "        <td>Beacon Hill</td>\n",
              "        <td>0.18</td>\n",
              "    </tr>\n",
              "    <tr>\n",
              "        <td>Boston University</td>\n",
              "        <td>0.11</td>\n",
              "    </tr>\n",
              "    <tr>\n",
              "        <td>Fenway</td>\n",
              "        <td>0.1</td>\n",
              "    </tr>\n",
              "    <tr>\n",
              "        <td>Financial District</td>\n",
              "        <td>0.18</td>\n",
              "    </tr>\n",
              "</table>"
            ],
            "text/plain": [
              "[('Back Bay', 0.12),\n",
              " ('Beacon Hill', 0.18),\n",
              " ('Boston University', 0.11),\n",
              " ('Fenway', 0.1),\n",
              " ('Financial District', 0.18)]"
            ]
          },
          "metadata": {
            "tags": []
          },
          "execution_count": 13
        }
      ]
    },
    {
      "cell_type": "code",
      "metadata": {
        "id": "oDv3p6uyc9BD",
        "colab_type": "code",
        "colab": {}
      },
      "source": [
        "#getting rid of microseconds in the time_stamp column\n",
        "df1['time_stamp'] = df1['time_stamp'].astype(str).str[:-4].astype(str)\n"
      ],
      "execution_count": null,
      "outputs": []
    },
    {
      "cell_type": "code",
      "metadata": {
        "id": "-WiqbJxLs962",
        "colab_type": "code",
        "colab": {
          "base_uri": "https://localhost:8080/",
          "height": 51
        },
        "outputId": "c3417071-05c3-4931-f266-345d00503724"
      },
      "source": [
        "# connecting to the database and transferring the data from the Pandas dataframes to the SQL tables\n",
        "\n",
        "conn = sqlite3.connect('testdb.sqlite')\n",
        "df1.to_sql('df1', conn, index = False, if_exists = \"replace\")\n",
        "df2.to_sql('df2', conn, index = False, if_exists = \"replace\")"
      ],
      "execution_count": null,
      "outputs": [
        {
          "output_type": "stream",
          "text": [
            "/usr/local/lib/python3.6/dist-packages/pandas/core/generic.py:2663: UserWarning: The spaces in these column names will not be changed. In pandas versions < 0.14, spaces were converted to underscores.\n",
            "  method=method,\n"
          ],
          "name": "stderr"
        }
      ]
    },
    {
      "cell_type": "code",
      "metadata": {
        "id": "t17-pPtCd2ZJ",
        "colab_type": "code",
        "colab": {
          "base_uri": "https://localhost:8080/",
          "height": 221
        },
        "outputId": "cfd924e9-bea5-427e-81ae-f6d372a2740a"
      },
      "source": [
        "#joining the tables\n",
        "\n",
        "%%sql\n",
        "\n",
        "DROP TABLE if EXISTS df3;\n",
        "\n",
        "CREATE TABLE df3 as\n",
        "SELECT df1.distance,\tdf1.cab_type,\tdf1.time_stamp,\tdf1.destination,\t\n",
        "df1.source,\tdf1.price,\tdf1.surge_multiplier,\tdf1.id,\tdf1.product_id,\t\n",
        "df1.name, df2.temp,\tdf2.location,\tdf2.clouds,\tdf2.pressure,\t\n",
        "df2.rain,\tdf2.humidity,\tdf2.wind\n",
        "from df1\n",
        "INNER JOIN df2 ON\n",
        "df1.time_stamp = df1.time_stamp;\n",
        "\n",
        "SELECT * from df3 LIMIT 5;"
      ],
      "execution_count": null,
      "outputs": [
        {
          "output_type": "stream",
          "text": [
            " * sqlite:///testdb.sqlite\n",
            "Done.\n",
            "(sqlite3.OperationalError) database or disk is full\n",
            "[SQL: CREATE TABLE df3 as\n",
            "SELECT df1.distance,\tdf1.cab_type,\tdf1.time_stamp,\tdf1.destination,\t\n",
            "df1.source,\tdf1.price,\tdf1.surge_multiplier,\tdf1.id,\tdf1.product_id,\t\n",
            "df1.name, df2.temp,\tdf2.location,\tdf2.clouds,\tdf2.pressure,\t\n",
            "df2.rain,\tdf2.humidity,\tdf2.wind\n",
            "from df1\n",
            "INNER JOIN df2 ON\n",
            "df1.time_stamp = df1.time_stamp;]\n",
            "(Background on this error at: http://sqlalche.me/e/13/e3q8)\n"
          ],
          "name": "stdout"
        }
      ]
    },
    {
      "cell_type": "markdown",
      "metadata": {
        "id": "cCcqhLvbJlaI",
        "colab_type": "text"
      },
      "source": [
        "#Questions to answer from our data"
      ]
    },
    {
      "cell_type": "code",
      "metadata": {
        "id": "rhSyiq62tj-V",
        "colab_type": "code",
        "colab": {
          "base_uri": "https://localhost:8080/",
          "height": 153
        },
        "outputId": "0b397f9c-db13-426d-8992-77fef4186566"
      },
      "source": [
        "#checking pricing agains locations\n",
        "%%sql \n",
        "\n",
        "select location, cab_type, sum(price) as \"Standard price\" \n",
        "from df3\n",
        "group by location\n",
        "order by \"Standard price\" desc\n",
        "limit 50;\n"
      ],
      "execution_count": null,
      "outputs": [
        {
          "output_type": "stream",
          "text": [
            " * sqlite:///testdb.sqlite\n",
            "(sqlite3.OperationalError) no such table: df3\n",
            "[SQL: select location, cab_type, sum(price) as \"Standard price\" \n",
            "from df3\n",
            "group by location\n",
            "order by \"Standard price\" desc\n",
            "limit 50;]\n",
            "(Background on this error at: http://sqlalche.me/e/13/e3q8)\n"
          ],
          "name": "stdout"
        }
      ]
    },
    {
      "cell_type": "code",
      "metadata": {
        "id": "P8sXAd7uJzR8",
        "colab_type": "code",
        "colab": {
          "base_uri": "https://localhost:8080/",
          "height": 34
        },
        "outputId": "22576783-0181-404e-ac28-fe9c5dca97d3"
      },
      "source": [
        "#Checking for what time and weather conditions associates with surge in price\n",
        "%%sql\n",
        "\n",
        "select cab_type, time_stamp, wind, temp,  rain, surge_multiplier\n",
        "from df3\n",
        "where not rain =\"None\"\n",
        "order by surge_multiplier desc\n",
        "limit 10"
      ],
      "execution_count": null,
      "outputs": [
        {
          "output_type": "stream",
          "text": [
            "UsageError: Cell magic `%%sql` not found.\n"
          ],
          "name": "stderr"
        }
      ]
    },
    {
      "cell_type": "code",
      "metadata": {
        "id": "xWK1pm-aFWQ1",
        "colab_type": "code",
        "colab": {}
      },
      "source": [
        "#Checking for what time uber charges surge\n",
        "%%sql\n",
        "select cab_type, time_stamp, surge_multiplier, temp\n",
        "from df3\n",
        "where cab_type = \"Uber\"\n",
        "order by surge_multiplier desc\n",
        "limit 10;"
      ],
      "execution_count": null,
      "outputs": []
    },
    {
      "cell_type": "code",
      "metadata": {
        "id": "1FeyyJMpF5T9",
        "colab_type": "code",
        "colab": {}
      },
      "source": [
        "#Checking for what time lyft charges surge\n",
        "%%sql\n",
        "select cab_type, time_stamp, surge_multiplier, temp\n",
        "from df3\n",
        "where cab_type = \"Lyft\"\n",
        "order by surge_multiplier desc\n",
        "limit 10;"
      ],
      "execution_count": null,
      "outputs": []
    },
    {
      "cell_type": "code",
      "metadata": {
        "id": "2sluSf9ZHD2W",
        "colab_type": "code",
        "colab": {}
      },
      "source": [
        "#Checking for what time fare charges surge\n",
        "%%sql\n",
        "select name, count(name) as \"Number of orders\", round(avg(price),2) as \"Standard price\", cab_type, time_stamp\n",
        "from df3\n",
        "group by name\n",
        "order by \"Standard price\" desc\n",
        "limit 10;"
      ],
      "execution_count": null,
      "outputs": []
    },
    {
      "cell_type": "code",
      "metadata": {
        "id": "8N_4QewHI8lj",
        "colab_type": "code",
        "colab": {}
      },
      "source": [
        "##Checking fare charges surge on hot days\n",
        "%%sql\n",
        "\n",
        "select avg(price) as \"Standard price\", cab_type\n",
        "from df3\n",
        "where temp >= 30.0\n",
        "group by cab_type;\n",
        "\n",
        "limit 10;"
      ],
      "execution_count": null,
      "outputs": []
    },
    {
      "cell_type": "code",
      "metadata": {
        "id": "bzzH-lV2OnJl",
        "colab_type": "code",
        "colab": {}
      },
      "source": [
        "#total amount in the morning hours\n",
        "%%sql\n",
        "\n",
        "select sum(price) as \"Total_amount_morning\"\n",
        "from df3\n",
        "where time_stamp between '2018-11-26 1:00:00' and '2018-11-26 9:59:59'"
      ],
      "execution_count": null,
      "outputs": []
    },
    {
      "cell_type": "code",
      "metadata": {
        "id": "NFCcxzdlN9w2",
        "colab_type": "code",
        "colab": {}
      },
      "source": [
        "#during the day prices\n",
        "%%sql\n",
        "\n",
        "select sum(price) as \"Total_amount_daytime\"\n",
        "from df3\n",
        "where time_stamp between '2018-11-26 10:00:00' and '2018-11-26 15:59:59'"
      ],
      "execution_count": null,
      "outputs": []
    },
    {
      "cell_type": "code",
      "metadata": {
        "id": "uRDiIm3nPnFW",
        "colab_type": "code",
        "colab": {}
      },
      "source": [
        "#prices at night\n",
        "%%sql\n",
        "\n",
        "select sum(price) as \"Total_amount_night\"\n",
        "from \n",
        "where time_stamp between '2018-11-26 05:00:00' and '2018-11-26 11:59:59'"
      ],
      "execution_count": null,
      "outputs": []
    },
    {
      "cell_type": "markdown",
      "metadata": {
        "id": "k8SYoE3xQInl",
        "colab_type": "text"
      },
      "source": [
        "# Final thoughts"
      ]
    },
    {
      "cell_type": "markdown",
      "metadata": {
        "id": "jIFl28P4mlQ8",
        "colab_type": "text"
      },
      "source": [
        "The following are the prices for Lyft:\n",
        "- overall average of 17.35, overall minimum 2.5, overall maximum 97.5\n",
        "- average 17.3, minimum 2.5, maximum 92.0 from midnight to 6 AM\n",
        "- average 16.5, minimum 2.5, maximum 89.0 from 7 AM to 12 PM\n",
        "- average 17.4, minimum 2.5, maximum 92.0 from 1 PM to 6 PM\n",
        "- average 18.3, minimum 2.5, maximum 97.5 from 7 PM to 11 PM\n",
        "\n",
        "The following are the prices for Uber:\n",
        "- overall average of 15.8, overall minimum 4.5, overall maximum 89.5\n",
        "- average 15.9, minimum 4.5, maximum 89.5 from midnight to 7 AM\n",
        "- average 15.2, minimum 4.5, maximum 87.0 from 7 AM to 12 PM\n",
        "- average 15.9, minimum 4.5, maximum 62.5 from 1 PM to 6 PM\n",
        "- average 16.3, minimum 4.5, maximum 76.0 from 7 PM to 11 PM\n",
        "\n",
        "Minimum distance is 0.02, maximum distance is 7.86.\n",
        "\n",
        "**For distance 0.00-1.96:**\n",
        "Lyft has average price 14.1, minimum price 2.5, and maximum price 65.0.\n",
        "Uber has average price 13.3, minimum price 4.5, and maximum price 61.5.\n",
        "\n",
        "**For distance 1.97-3.93:**\n",
        "Lyft has average price 19.2, minimum price 2.5, and maximum price 92.0.\n",
        "Uber has average price 17.1, minimum price 6.0, and maximum price 80.5.\n",
        "\n",
        "**For distance 3.94-5.89:**\n",
        "Lyft has average price 25.5,  minimum price 3.0, and maximum price 97.5.\n",
        "Uber has average price 22.3, minimum price 7.5, and maximum price 87.0.\n",
        "\n",
        "**For distance 5.90-7.86**\n",
        "Lyft has average price 30.1, minimum price 10.5, and maximum price 65.0.\n",
        "Uber has average price 26.1, minimum price 10.0, and maximum price 89.5."
      ]
    },
    {
      "cell_type": "markdown",
      "metadata": {
        "id": "z2pwMbuoQZ2L",
        "colab_type": "text"
      },
      "source": [
        "**From the observation made, time of the day and weather highly contribute to pricing of cabs:**\n",
        "\n",
        "**With bad weather prices are likely to shoot.**\n",
        "\n",
        "**Also prices are high during morning and evening hours**\n",
        "\n",
        "**Another factor affecting pricing is location of your ride**\n"
      ]
    }
  ]
}