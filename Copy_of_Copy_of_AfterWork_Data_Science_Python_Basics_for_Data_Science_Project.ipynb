{
  "nbformat": 4,
  "nbformat_minor": 0,
  "metadata": {
    "colab": {
      "name": "Copy of Copy of AfterWork_Data_Science_Python_Basics_for_Data_Science_Project.ipynb",
      "provenance": [],
      "collapsed_sections": [],
      "toc_visible": true
    },
    "kernelspec": {
      "name": "python3",
      "display_name": "Python 3"
    }
  },
  "cells": [
    {
      "cell_type": "markdown",
      "metadata": {
        "id": "C0MVEA2p5aPF",
        "colab_type": "text"
      },
      "source": [
        "# AfterWork Data Science: Python Basics for Data Science Project - project1"
      ]
    },
    {
      "cell_type": "code",
      "metadata": {
        "id": "tMq41k-e5VNR",
        "colab_type": "code",
        "colab": {}
      },
      "source": [
        "# Creating a dictionary of input data\n",
        "tigo_dictionary = {'minutes': 200, 'texts': 200, 'fixed':10, 'tax': 0.14 }\n"
      ],
      "execution_count": null,
      "outputs": []
    },
    {
      "cell_type": "code",
      "metadata": {
        "id": "b0p2faHi5eHP",
        "colab_type": "code",
        "colab": {}
      },
      "source": [
        "# accessing dictionary\n",
        "minutes1 = tigo_dictionary.get('minutes')\n",
        "texts1 = tigo_dictionary.get('texts')\n",
        "fixedcharge = tigo_dictionary.get('fixed')\n",
        "tax= tigo_dictionary.get('tax')\n",
        "\n",
        "\n",
        "\n",
        "\n",
        "#getting user input on the resourses they consumed over the period\n",
        "#minute2 is the total minutes used by customer.\n",
        "#texts2 is the total texts used by customer.\n",
        "\n",
        "minutes2=float(input('Please enter the total amount of minutes consumed '))\n",
        "texts2=float(input('please enter the total amount of texts consumed  '))\n",
        "\n",
        "# Performing different actions based on the conditions indicated in the question.\n",
        "#charge1 is total amount before taxing\n",
        "if (minutes2 <= 200 and texts2 <=200):\n",
        "\n",
        "   taxedcharge =10 + (10*tax)\n",
        "\n",
        "if minutes2 > minutes1:\n",
        "    \n",
        "    amount1 = (minutes2-minutes1)*0.03\n",
        "    \n",
        "if minutes2<minutes1:\n",
        "\n",
        "  amount1=0\n",
        "\n",
        "if texts2<texts1:\n",
        "\n",
        "  amount2=0\n",
        "  \n",
        "if texts2 > texts1:\n",
        "\n",
        "    amount2 = (texts2-texts1)*0.001\n",
        "    charge1=fixedcharge + amount1 + amount2\n",
        "    taxedcharge=charge1 +(charge1*tax)\n",
        "\n",
        "\n",
        "\n",
        "# We can choose to format our basecharge  2dp\n",
        "total =  round(float(taxedcharge), 2) \n",
        "\n",
        "# We then create output message to customer  \n",
        "print('Dear customer, please pay $ '+ str(total) + ' as your monthly bill(inclusive 14% VAT). Thanks for your patronage. Remember to keep safe distance and sanitize. ' )\n",
        "\n",
        "        \n",
        "\n",
        "\n"
      ],
      "execution_count": null,
      "outputs": []
    }
  ]
}